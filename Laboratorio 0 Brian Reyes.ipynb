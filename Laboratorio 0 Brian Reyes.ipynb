{
 "cells": [
  {
   "cell_type": "markdown",
   "metadata": {},
   "source": [
    "### Primer Notebook\n",
    "### ESMA 3016\n",
    "### Edgar Acuna\n",
    "### Febrero 19, 2018"
   ]
  },
  {
   "cell_type": "code",
   "execution_count": 4,
   "metadata": {
    "collapsed": false
   },
   "outputs": [
    {
     "data": {
      "text/plain": [
       "2.75"
      ]
     },
     "execution_count": 4,
     "metadata": {},
     "output_type": "execute_result"
    }
   ],
   "source": [
    "# Una operacion basica elemental\n",
    "(3+5*6)/float(12)"
   ]
  },
  {
   "cell_type": "code",
   "execution_count": 5,
   "metadata": {
    "collapsed": false
   },
   "outputs": [
    {
     "name": "stdout",
     "output_type": "stream",
     "text": [
      "How old are you? 55\n"
     ]
    }
   ],
   "source": [
    "# Entrando el dato con el teclado\n",
    "age = input(\"How old are you? \")"
   ]
  },
  {
   "cell_type": "code",
   "execution_count": 6,
   "metadata": {
    "collapsed": false
   },
   "outputs": [
    {
     "name": "stdout",
     "output_type": "stream",
     "text": [
      "Your age is 55\n"
     ]
    }
   ],
   "source": [
    "print \"Your age is\", age"
   ]
  },
  {
   "cell_type": "code",
   "execution_count": 7,
   "metadata": {
    "collapsed": false
   },
   "outputs": [
    {
     "name": "stdout",
     "output_type": "stream",
     "text": [
      "You have 10 years until retirement\n"
     ]
    }
   ],
   "source": [
    "print \"You have\", 65 - age, \"years until retirement\""
   ]
  },
  {
   "cell_type": "code",
   "execution_count": 8,
   "metadata": {
    "collapsed": true
   },
   "outputs": [],
   "source": [
    "name = \"Edgar Acuna Fernandez\"\n",
    "length = len(name)"
   ]
  },
  {
   "cell_type": "code",
   "execution_count": 9,
   "metadata": {
    "collapsed": false
   },
   "outputs": [
    {
     "name": "stdout",
     "output_type": "stream",
     "text": [
      "EDGAR ACUNA FERNANDEZ tiene 21 caracteres\n"
     ]
    }
   ],
   "source": [
    "#imprimiendo en Mayuscula e imprimiendo la longitud\n",
    "big_name = str.upper(name)\n",
    "print big_name, \"tiene\", length, \"caracteres\""
   ]
  },
  {
   "cell_type": "code",
   "execution_count": 10,
   "metadata": {
    "collapsed": true
   },
   "outputs": [],
   "source": [
    "\n",
    "\n",
    "names = [\"Ana\", \"Rosa\", \"Julia\"]\n",
    "\n"
   ]
  },
  {
   "cell_type": "code",
   "execution_count": 11,
   "metadata": {
    "collapsed": false
   },
   "outputs": [
    {
     "data": {
      "text/plain": [
       "'Ana'"
      ]
     },
     "execution_count": 11,
     "metadata": {},
     "output_type": "execute_result"
    }
   ],
   "source": [
    "names[0]"
   ]
  },
  {
   "cell_type": "code",
   "execution_count": 12,
   "metadata": {
    "collapsed": false
   },
   "outputs": [
    {
     "data": {
      "text/plain": [
       "'Rosa'"
      ]
     },
     "execution_count": 12,
     "metadata": {},
     "output_type": "execute_result"
    }
   ],
   "source": [
    "names[-2]"
   ]
  },
  {
   "cell_type": "code",
   "execution_count": 13,
   "metadata": {
    "collapsed": false
   },
   "outputs": [
    {
     "data": {
      "text/plain": [
       "[0, 1, 2, 3, 4]"
      ]
     },
     "execution_count": 13,
     "metadata": {},
     "output_type": "execute_result"
    }
   ],
   "source": [
    "#uso de la funcion range\n",
    "range(5)"
   ]
  },
  {
   "cell_type": "code",
   "execution_count": 14,
   "metadata": {
    "collapsed": false
   },
   "outputs": [
    {
     "data": {
      "text/plain": [
       "[5, 6, 7, 8, 9]"
      ]
     },
     "execution_count": 14,
     "metadata": {},
     "output_type": "execute_result"
    }
   ],
   "source": [
    "\n",
    "\n",
    "range(5,10)\n",
    "\n"
   ]
  },
  {
   "cell_type": "code",
   "execution_count": 15,
   "metadata": {
    "collapsed": false
   },
   "outputs": [
    {
     "data": {
      "text/plain": [
       "[5, 8, 11, 14, 17]"
      ]
     },
     "execution_count": 15,
     "metadata": {},
     "output_type": "execute_result"
    }
   ],
   "source": [
    "range(5,20,3)"
   ]
  },
  {
   "cell_type": "code",
   "execution_count": 16,
   "metadata": {
    "collapsed": false
   },
   "outputs": [
    {
     "name": "stdout",
     "output_type": "stream",
     "text": [
      "Su solicitud de admision es aceptada.\n"
     ]
    }
   ],
   "source": [
    "#uso del condicional If\n",
    "gpa = 3.4\n",
    "if gpa > 2.0:\n",
    "    print \"Su solicitud de admision es aceptada.\""
   ]
  },
  {
   "cell_type": "code",
   "execution_count": 17,
   "metadata": {
    "collapsed": false
   },
   "outputs": [
    {
     "name": "stdout",
     "output_type": "stream",
     "text": [
      "Su solicitud de admision ha sido denegada.\n"
     ]
    }
   ],
   "source": [
    "# Uso  de if/else\n",
    "gpa = 1.4\n",
    "if gpa >= 2.5:\n",
    "    print \"Bienvenido al Colegio de Mayaguez!\"\n",
    "else:\n",
    "    print \"Su solicitud de admision ha sido denegada.\""
   ]
  },
  {
   "cell_type": "code",
   "execution_count": 18,
   "metadata": {
    "collapsed": false
   },
   "outputs": [
    {
     "name": "stdout",
     "output_type": "stream",
     "text": [
      "Ana and Rosa\n"
     ]
    }
   ],
   "source": [
    "#Ejemplo con operadores logicos\n",
    "Ana=3\n",
    "Rosa=25\n",
    "if (Ana <= 5 and Rosa >= 10):\n",
    "    print \"Ana and Rosa\""
   ]
  },
  {
   "cell_type": "code",
   "execution_count": 19,
   "metadata": {
    "collapsed": false
   },
   "outputs": [
    {
     "name": "stdout",
     "output_type": "stream",
     "text": [
      "Otra vez Aana y Rosa\n"
     ]
    }
   ],
   "source": [
    "\n",
    "\n",
    "if (Rosa == 500 or Ana != 5):\n",
    "     print \"Otra vez Aana y Rosa\"\n",
    "\n"
   ]
  },
  {
   "cell_type": "code",
   "execution_count": 20,
   "metadata": {
    "collapsed": false
   },
   "outputs": [
    {
     "name": "stdout",
     "output_type": "stream",
     "text": [
      "1 squared is 1\n",
      "2 squared is 4\n",
      "3 squared is 9\n"
     ]
    }
   ],
   "source": [
    "#Ejemplo de loop\n",
    "for x in range(1, 4):\n",
    "    print x, \"squared is\", x * x"
   ]
  },
  {
   "cell_type": "code",
   "execution_count": 21,
   "metadata": {
    "collapsed": false
   },
   "outputs": [
    {
     "name": "stdout",
     "output_type": "stream",
     "text": [
      "Ana\n",
      "Rosa\n",
      "Julia\n"
     ]
    }
   ],
   "source": [
    "\n",
    "\n",
    "# Otro ejemplo de loop\n",
    "names = [\"Ana\", \"Rosa\", \"Julia\"]\n",
    "for name in names:\n",
    "    print name\n",
    "\n"
   ]
  },
  {
   "cell_type": "code",
   "execution_count": 22,
   "metadata": {
    "collapsed": false
   },
   "outputs": [
    {
     "name": "stdout",
     "output_type": "stream",
     "text": [
      "Checking 3\n",
      "The square is 9\n",
      "Checking 1\n",
      "Ignoring\n",
      "Checking 4\n",
      "The square is 16\n",
      "Checking 1\n",
      "Ignoring\n",
      "Checking 5\n",
      "The square is 25\n",
      "Checking 9\n",
      "Exiting for loop\n"
     ]
    }
   ],
   "source": [
    "# Ejemplo de break y continue\n",
    "for value in [3, 1, 4, 1, 5, 9, 2]:\n",
    "    print \"Checking\", value\n",
    "    if value > 8:\n",
    "        print \"Exiting for loop\"\n",
    "        break\n",
    "    elif value < 3:\n",
    "        print \"Ignoring\"\n",
    "        continue\n",
    "    print \"The square is\", value**2"
   ]
  },
  {
   "cell_type": "code",
   "execution_count": 23,
   "metadata": {
    "collapsed": false
   },
   "outputs": [
    {
     "name": "stdout",
     "output_type": "stream",
     "text": [
      "1 2 4 8 16 32 64 128\n"
     ]
    }
   ],
   "source": [
    "#Ejemplo de while\n",
    "number = 1\n",
    "while number < 200:\n",
    "    print number, \n",
    "    number = number * 2"
   ]
  },
  {
   "cell_type": "code",
   "execution_count": 24,
   "metadata": {
    "collapsed": false
   },
   "outputs": [
    {
     "data": {
      "text/plain": [
       "[13, 14, 15]"
      ]
     },
     "execution_count": 24,
     "metadata": {},
     "output_type": "execute_result"
    }
   ],
   "source": [
    "#Sunamndo una constante 10 a una lista\n",
    "vec1=[3,4,5]\n",
    "[x +10 for x   in vec1]"
   ]
  },
  {
   "cell_type": "code",
   "execution_count": 25,
   "metadata": {
    "collapsed": false
   },
   "outputs": [
    {
     "name": "stdout",
     "output_type": "stream",
     "text": [
      "12\n",
      "14\n",
      "16\n"
     ]
    }
   ],
   "source": [
    "#summando dos vectores componenete a componente\n",
    "vec2=[9,10,11]\n",
    "for a,b in zip(vec1,vec2):\n",
    "    print a+b"
   ]
  },
  {
   "cell_type": "code",
   "execution_count": 26,
   "metadata": {
    "collapsed": false
   },
   "outputs": [
    {
     "data": {
      "text/plain": [
       "3.141592653589793"
      ]
     },
     "execution_count": 26,
     "metadata": {},
     "output_type": "execute_result"
    }
   ],
   "source": [
    "#usando el modulo matematico math\n",
    "import math\n",
    "math.pi"
   ]
  },
  {
   "cell_type": "code",
   "execution_count": 27,
   "metadata": {
    "collapsed": false
   },
   "outputs": [
    {
     "data": {
      "text/plain": [
       "3.141592653589793"
      ]
     },
     "execution_count": 27,
     "metadata": {},
     "output_type": "execute_result"
    }
   ],
   "source": [
    "#usando el modulo matematico math con el alias m\n",
    "import math as m\n",
    "m.pi"
   ]
  },
  {
   "cell_type": "code",
   "execution_count": 28,
   "metadata": {
    "collapsed": false
   },
   "outputs": [
    {
     "data": {
      "text/plain": [
       "3.141592653589793"
      ]
     },
     "execution_count": 28,
     "metadata": {},
     "output_type": "execute_result"
    }
   ],
   "source": [
    "#importando solamente la funcion pi del modulo math\n",
    "from math import pi\n",
    "pi"
   ]
  },
  {
   "cell_type": "code",
   "execution_count": 29,
   "metadata": {
    "collapsed": true
   },
   "outputs": [],
   "source": [
    "import pandas as pd\n",
    "df=pd.read_csv(\"http://academic.uprm.edu/eacuna/Animals2.csv\")"
   ]
  },
  {
   "cell_type": "code",
   "execution_count": 30,
   "metadata": {
    "collapsed": false
   },
   "outputs": [
    {
     "name": "stdout",
     "output_type": "stream",
     "text": [
      "                       Specie       body    brain\n",
      "0   Lesser short-tailed shrew      0.005     0.14\n",
      "1            Little brown bat      0.010     0.25\n",
      "2               Big brown bat      0.023     0.30\n",
      "3                       Mouse      0.023     0.40\n",
      "4                  Musk shrew      0.048     0.33\n",
      "5             Star-nosed mole      0.060     1.00\n",
      "6            E. American mole      0.075     1.20\n",
      "7             Ground squirrel      0.101     4.00\n",
      "8                  Tree shrew      0.104     2.50\n",
      "9              Golden hamster      0.120     1.00\n",
      "10                       Mole      0.122     3.00\n",
      "11                     Galago      0.200     5.00\n",
      "12                        Rat      0.280     1.90\n",
      "13                 Chinchilla      0.425     6.40\n",
      "14                 Owl monkey      0.480    15.50\n",
      "15            Desert hedgehog      0.550     2.40\n",
      "16               Rock hyrax-a      0.750    12.30\n",
      "17          European hedgehog      0.785     3.50\n",
      "18                     Tenrec      0.900     2.60\n",
      "19      Artic ground squirrel      0.920     5.70\n",
      "20  African giant pouched rat      1.000     6.60\n",
      "21                 Guinea pig      1.040     5.50\n",
      "22            Mountain beaver      1.350     8.10\n",
      "23                 Slow loris      1.400    12.50\n",
      "24                      Genet      1.410    17.50\n",
      "25                  Phalanger      1.620    11.40\n",
      "26               N.A. opossum      1.700     6.30\n",
      "27                 Tree hyrax      2.000    12.30\n",
      "28                     Rabbit      2.500    12.10\n",
      "29                    Echidna      3.000    25.00\n",
      "..                        ...        ...      ...\n",
      "35      Yellow-bellied marmot      4.050    17.00\n",
      "36                     Verbet      4.190    58.00\n",
      "37                    Red fox      4.235    50.40\n",
      "38                    Raccoon      4.288    39.20\n",
      "39              Rhesus monkey      6.800   179.00\n",
      "40               Potar monkey     10.000   115.00\n",
      "41                     Baboon     10.550   179.50\n",
      "42                   Roe deer     14.830    98.20\n",
      "43                       Goat     27.660   115.00\n",
      "44                   Kangaroo     35.000    56.00\n",
      "45                  Grey wolf     36.330   119.50\n",
      "46                 Chimpanzee     52.160   440.00\n",
      "47                      Sheep     55.500   175.00\n",
      "48            Giant armadillo     60.000    81.00\n",
      "49                      Human     62.000  1320.00\n",
      "50                  Grey seal     85.000   325.00\n",
      "51                     Jaguar    100.000   157.00\n",
      "52            Brazilian tapir    160.000   169.00\n",
      "53                     Donkey    187.100   419.00\n",
      "54                        Pig    192.000   180.00\n",
      "55                    Gorilla    207.000   406.00\n",
      "56                      Okapi    250.000   490.00\n",
      "57                        Cow    465.000   423.00\n",
      "58                      Horse    521.000   655.00\n",
      "59                    Giraffe    529.000   680.00\n",
      "60             Asian elephant   2547.000  4603.00\n",
      "61           African elephant   6654.000  5712.00\n",
      "62                Triceratops   9400.000    70.00\n",
      "63                Dipliodocus  11700.000    50.00\n",
      "64              Brachiosaurus  87000.000   154.50\n",
      "\n",
      "[65 rows x 3 columns]\n"
     ]
    }
   ],
   "source": [
    "print df"
   ]
  },
  {
   "cell_type": "code",
   "execution_count": null,
   "metadata": {
    "collapsed": true
   },
   "outputs": [],
   "source": []
  }
 ],
 "metadata": {
  "anaconda-cloud": {},
  "kernelspec": {
   "display_name": "Python [Root]",
   "language": "python",
   "name": "Python [Root]"
  },
  "language_info": {
   "codemirror_mode": {
    "name": "ipython",
    "version": 2
   },
   "file_extension": ".py",
   "mimetype": "text/x-python",
   "name": "python",
   "nbconvert_exporter": "python",
   "pygments_lexer": "ipython2",
   "version": "2.7.12"
  }
 },
 "nbformat": 4,
 "nbformat_minor": 0
}
